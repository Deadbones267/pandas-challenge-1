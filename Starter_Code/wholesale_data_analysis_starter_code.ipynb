{
 "cells": [
  {
   "cell_type": "markdown",
   "id": "dc0318d6",
   "metadata": {},
   "source": [
    "## Part 1: Explore the Data\n",
    "\n",
    "Import the data and use Pandas to learn more about the dataset."
   ]
  },
  {
   "cell_type": "code",
   "execution_count": 1,
   "id": "e076f57f",
   "metadata": {},
   "outputs": [
    {
     "data": {
      "text/html": [
       "<div>\n",
       "<style scoped>\n",
       "    .dataframe tbody tr th:only-of-type {\n",
       "        vertical-align: middle;\n",
       "    }\n",
       "\n",
       "    .dataframe tbody tr th {\n",
       "        vertical-align: top;\n",
       "    }\n",
       "\n",
       "    .dataframe thead th {\n",
       "        text-align: right;\n",
       "    }\n",
       "</style>\n",
       "<table border=\"1\" class=\"dataframe\">\n",
       "  <thead>\n",
       "    <tr style=\"text-align: right;\">\n",
       "      <th></th>\n",
       "      <th>first</th>\n",
       "      <th>last</th>\n",
       "      <th>job</th>\n",
       "      <th>phone</th>\n",
       "      <th>email</th>\n",
       "      <th>client_id</th>\n",
       "      <th>order_id</th>\n",
       "      <th>order_date</th>\n",
       "      <th>order_week</th>\n",
       "      <th>order_year</th>\n",
       "      <th>item_id</th>\n",
       "      <th>category</th>\n",
       "      <th>subcategory</th>\n",
       "      <th>unit_price</th>\n",
       "      <th>unit_cost</th>\n",
       "      <th>unit_weight</th>\n",
       "      <th>qty</th>\n",
       "      <th>line_number</th>\n",
       "    </tr>\n",
       "  </thead>\n",
       "  <tbody>\n",
       "    <tr>\n",
       "      <th>0</th>\n",
       "      <td>Donald</td>\n",
       "      <td>Harding</td>\n",
       "      <td>Immunologist</td>\n",
       "      <td>793-904-7725x39308</td>\n",
       "      <td>harding.donald.7185@sullivan.com</td>\n",
       "      <td>58515</td>\n",
       "      <td>8953482</td>\n",
       "      <td>2023-04-28</td>\n",
       "      <td>17</td>\n",
       "      <td>2023</td>\n",
       "      <td>EUD29711-63-6U</td>\n",
       "      <td>decor</td>\n",
       "      <td>wall art</td>\n",
       "      <td>1096.80</td>\n",
       "      <td>762.71</td>\n",
       "      <td>7.50</td>\n",
       "      <td>105</td>\n",
       "      <td>1</td>\n",
       "    </tr>\n",
       "    <tr>\n",
       "      <th>1</th>\n",
       "      <td>Tiffany</td>\n",
       "      <td>Myers</td>\n",
       "      <td>Music therapist</td>\n",
       "      <td>201.442.4543x942</td>\n",
       "      <td>myers.t.6537@ferguson-johnson.net</td>\n",
       "      <td>37609</td>\n",
       "      <td>8069089</td>\n",
       "      <td>2023-05-19</td>\n",
       "      <td>20</td>\n",
       "      <td>2023</td>\n",
       "      <td>XDA18116-89-4A</td>\n",
       "      <td>consumables</td>\n",
       "      <td>pens</td>\n",
       "      <td>24.95</td>\n",
       "      <td>15.09</td>\n",
       "      <td>1.49</td>\n",
       "      <td>21</td>\n",
       "      <td>0</td>\n",
       "    </tr>\n",
       "    <tr>\n",
       "      <th>2</th>\n",
       "      <td>Shannon</td>\n",
       "      <td>Watson</td>\n",
       "      <td>Immunologist</td>\n",
       "      <td>687.737.9424x8503</td>\n",
       "      <td>swatson8146@payne.net</td>\n",
       "      <td>57113</td>\n",
       "      <td>1902144</td>\n",
       "      <td>2023-01-29</td>\n",
       "      <td>4</td>\n",
       "      <td>2023</td>\n",
       "      <td>ABE59463-05-7E</td>\n",
       "      <td>software</td>\n",
       "      <td>project management</td>\n",
       "      <td>13.52</td>\n",
       "      <td>7.86</td>\n",
       "      <td>1.68</td>\n",
       "      <td>39</td>\n",
       "      <td>6</td>\n",
       "    </tr>\n",
       "    <tr>\n",
       "      <th>3</th>\n",
       "      <td>Nathan</td>\n",
       "      <td>Baker</td>\n",
       "      <td>Accounting technician</td>\n",
       "      <td>827-788-8123x012</td>\n",
       "      <td>bakernathan@benson.com</td>\n",
       "      <td>46554</td>\n",
       "      <td>9031802</td>\n",
       "      <td>2023-04-25</td>\n",
       "      <td>17</td>\n",
       "      <td>2023</td>\n",
       "      <td>ZMM00836-65-0C</td>\n",
       "      <td>consumables</td>\n",
       "      <td>pens</td>\n",
       "      <td>36.42</td>\n",
       "      <td>24.85</td>\n",
       "      <td>1.23</td>\n",
       "      <td>29</td>\n",
       "      <td>3</td>\n",
       "    </tr>\n",
       "    <tr>\n",
       "      <th>4</th>\n",
       "      <td>Christina</td>\n",
       "      <td>Schwartz</td>\n",
       "      <td>Chiropractor</td>\n",
       "      <td>265-829-3643</td>\n",
       "      <td>christinaschwartz9252@mcconnell.com</td>\n",
       "      <td>92089</td>\n",
       "      <td>1322274</td>\n",
       "      <td>2023-05-28</td>\n",
       "      <td>21</td>\n",
       "      <td>2023</td>\n",
       "      <td>BZX55559-12-3X</td>\n",
       "      <td>consumables</td>\n",
       "      <td>misc</td>\n",
       "      <td>195.10</td>\n",
       "      <td>108.17</td>\n",
       "      <td>46.43</td>\n",
       "      <td>20</td>\n",
       "      <td>1</td>\n",
       "    </tr>\n",
       "  </tbody>\n",
       "</table>\n",
       "</div>"
      ],
      "text/plain": [
       "       first      last                    job               phone  \\\n",
       "0     Donald   Harding           Immunologist  793-904-7725x39308   \n",
       "1    Tiffany     Myers        Music therapist    201.442.4543x942   \n",
       "2    Shannon    Watson           Immunologist   687.737.9424x8503   \n",
       "3     Nathan     Baker  Accounting technician    827-788-8123x012   \n",
       "4  Christina  Schwartz           Chiropractor        265-829-3643   \n",
       "\n",
       "                                 email  client_id  order_id  order_date  \\\n",
       "0     harding.donald.7185@sullivan.com      58515   8953482  2023-04-28   \n",
       "1    myers.t.6537@ferguson-johnson.net      37609   8069089  2023-05-19   \n",
       "2                swatson8146@payne.net      57113   1902144  2023-01-29   \n",
       "3               bakernathan@benson.com      46554   9031802  2023-04-25   \n",
       "4  christinaschwartz9252@mcconnell.com      92089   1322274  2023-05-28   \n",
       "\n",
       "   order_week  order_year         item_id     category         subcategory  \\\n",
       "0          17        2023  EUD29711-63-6U        decor            wall art   \n",
       "1          20        2023  XDA18116-89-4A  consumables                pens   \n",
       "2           4        2023  ABE59463-05-7E     software  project management   \n",
       "3          17        2023  ZMM00836-65-0C  consumables                pens   \n",
       "4          21        2023  BZX55559-12-3X  consumables                misc   \n",
       "\n",
       "   unit_price  unit_cost  unit_weight  qty  line_number  \n",
       "0     1096.80     762.71         7.50  105            1  \n",
       "1       24.95      15.09         1.49   21            0  \n",
       "2       13.52       7.86         1.68   39            6  \n",
       "3       36.42      24.85         1.23   29            3  \n",
       "4      195.10     108.17        46.43   20            1  "
      ]
     },
     "execution_count": 1,
     "metadata": {},
     "output_type": "execute_result"
    }
   ],
   "source": [
    "import pandas as pd\n",
    "\n",
    "df = pd.read_csv('Resources/client_dataset.csv')\n",
    "df.head()"
   ]
  },
  {
   "cell_type": "code",
   "execution_count": 2,
   "id": "71b9bbd2",
   "metadata": {},
   "outputs": [
    {
     "name": "stdout",
     "output_type": "stream",
     "text": [
      "Index(['first', 'last', 'job', 'phone', 'email', 'client_id', 'order_id',\n",
      "       'order_date', 'order_week', 'order_year', 'item_id', 'category',\n",
      "       'subcategory', 'unit_price', 'unit_cost', 'unit_weight', 'qty',\n",
      "       'line_number'],\n",
      "      dtype='object')\n"
     ]
    }
   ],
   "source": [
    "# View the column names in the data\n",
    "print(df.columns)\n"
   ]
  },
  {
   "cell_type": "code",
   "execution_count": 3,
   "id": "bc0f4172",
   "metadata": {},
   "outputs": [
    {
     "data": {
      "text/plain": [
       "<bound method NDFrame.describe of            first       last                      job               phone  \\\n",
       "0         Donald    Harding             Immunologist  793-904-7725x39308   \n",
       "1        Tiffany      Myers          Music therapist    201.442.4543x942   \n",
       "2        Shannon     Watson             Immunologist   687.737.9424x8503   \n",
       "3         Nathan      Baker    Accounting technician    827-788-8123x012   \n",
       "4      Christina   Schwartz             Chiropractor        265-829-3643   \n",
       "...          ...        ...                      ...                 ...   \n",
       "54634     Lauren      Reese           Radio producer  977.877.5272x11382   \n",
       "54635    Derrick      Moore                 Musician        358.661.5483   \n",
       "54636     Monica  Gutierrez         Graphic designer    294.805.9100x339   \n",
       "54637      Wanda    Solomon             Toxicologist       (311)767-4924   \n",
       "54638     Dwayne       Bell  Chief Financial Officer   606-619-7667x9508   \n",
       "\n",
       "                                     email  client_id  order_id  order_date  \\\n",
       "0         harding.donald.7185@sullivan.com      58515   8953482  2023-04-28   \n",
       "1        myers.t.6537@ferguson-johnson.net      37609   8069089  2023-05-19   \n",
       "2                    swatson8146@payne.net      57113   1902144  2023-01-29   \n",
       "3                   bakernathan@benson.com      46554   9031802  2023-04-25   \n",
       "4      christinaschwartz9252@mcconnell.com      92089   1322274  2023-05-28   \n",
       "...                                    ...        ...       ...         ...   \n",
       "54634   late_reese_4081@montoya-chavez.org      29043   9021716  2023-04-26   \n",
       "54635         derrick.moore.2602@pope.info      41908   6290153  2023-02-08   \n",
       "54636            gutierrezm3195@morris.org      35176   8692622  2023-03-05   \n",
       "54637            solomonwanda5962@ross.org      24485   7592730  2023-01-18   \n",
       "54638                     belld@galvan.com      24007   7489403  2023-01-04   \n",
       "\n",
       "       order_week  order_year         item_id     category  \\\n",
       "0              17        2023  EUD29711-63-6U        decor   \n",
       "1              20        2023  XDA18116-89-4A  consumables   \n",
       "2               4        2023  ABE59463-05-7E     software   \n",
       "3              17        2023  ZMM00836-65-0C  consumables   \n",
       "4              21        2023  BZX55559-12-3X  consumables   \n",
       "...           ...         ...             ...          ...   \n",
       "54634          17        2023  UCA28532-31-0B     software   \n",
       "54635           6        2023  EBD29277-23-7U  consumables   \n",
       "54636           9        2023  EBD30093-55-9Z  consumables   \n",
       "54637           3        2023  XMZ38239-49-3D    furniture   \n",
       "54638           1        2023  ZCZ05589-50-5D     software   \n",
       "\n",
       "              subcategory  unit_price  unit_cost  unit_weight   qty  \\\n",
       "0                wall art     1096.80     762.71         7.50   105   \n",
       "1                    pens       24.95      15.09         1.49    21   \n",
       "2      project management       13.52       7.86         1.68    39   \n",
       "3                    pens       36.42      24.85         1.23    29   \n",
       "4                    misc      195.10     108.17        46.43    20   \n",
       "...                   ...         ...        ...          ...   ...   \n",
       "54634           logistics       83.13      51.60         2.25    33   \n",
       "54635    kitchen supplies      206.59     175.46        11.70    47   \n",
       "54636   bathroom supplies       65.66      57.31         4.16   475   \n",
       "54637              stands        1.48       1.22        18.04   112   \n",
       "54638  project management        3.01       1.61         2.07  1031   \n",
       "\n",
       "       line_number  \n",
       "0                1  \n",
       "1                0  \n",
       "2                6  \n",
       "3                3  \n",
       "4                1  \n",
       "...            ...  \n",
       "54634            8  \n",
       "54635            0  \n",
       "54636            6  \n",
       "54637            0  \n",
       "54638            5  \n",
       "\n",
       "[54639 rows x 18 columns]>"
      ]
     },
     "execution_count": 3,
     "metadata": {},
     "output_type": "execute_result"
    }
   ],
   "source": [
    "# Use the describe function to gather some basic statistics\n",
    "df.describe"
   ]
  },
  {
   "cell_type": "code",
   "execution_count": 4,
   "id": "b24b53cc",
   "metadata": {},
   "outputs": [
    {
     "data": {
      "text/plain": [
       "first                              Zachary\n",
       "last                                Zavala\n",
       "job                           Youth worker\n",
       "phone                    999.801.2159x2255\n",
       "email          zacharyjohnson@jacobson.net\n",
       "client_id                            99984\n",
       "order_id                           9998480\n",
       "order_date                      2023-05-30\n",
       "order_week                              52\n",
       "order_year                            2023\n",
       "item_id                     ZZU43604-44-9M\n",
       "category                          software\n",
       "subcategory                       wall art\n",
       "unit_price                         1396.23\n",
       "unit_cost                           846.27\n",
       "unit_weight                          46.43\n",
       "qty                                3958244\n",
       "line_number                              9\n",
       "dtype: object"
      ]
     },
     "execution_count": 4,
     "metadata": {},
     "output_type": "execute_result"
    }
   ],
   "source": [
    "# Use this space to do any additional research\n",
    "# and familiarize yourself with the data.\n",
    "df.max()\n"
   ]
  },
  {
   "cell_type": "code",
   "execution_count": 5,
   "id": "551cb358",
   "metadata": {},
   "outputs": [
    {
     "name": "stdout",
     "output_type": "stream",
     "text": [
      "Top 3 categories:/n category\n",
      "consumables    23538\n",
      "furniture      11915\n",
      "software        8400\n",
      "Name: count, dtype: int64\n"
     ]
    }
   ],
   "source": [
    "# What three item categories had the most entries?\n",
    "top_categories = df['category'].value_counts().head(3)\n",
    "print(\"Top 3 categories:/n\",top_categories)"
   ]
  },
  {
   "cell_type": "code",
   "execution_count": 6,
   "id": "5f54e2cf",
   "metadata": {},
   "outputs": [],
   "source": [
    "# For the category with the most entries, which subcategory had the most entries?\n",
    "top_category = top_categories.index[0]\n",
    "top_subcategory = df[df['category']==top_category]['subcategory'].value_counts().idxmax()"
   ]
  },
  {
   "cell_type": "code",
   "execution_count": 7,
   "id": "2db94379",
   "metadata": {},
   "outputs": [
    {
     "name": "stdout",
     "output_type": "stream",
     "text": [
      "top 5 clients:\n",
      " client_id\n",
      "33615    220\n",
      "66037    211\n",
      "46820    209\n",
      "24741    207\n",
      "38378    207\n",
      "Name: count, dtype: int64\n"
     ]
    }
   ],
   "source": [
    "# Which five clients had the most entries in the data?\n",
    "top_clients = df['client_id'].value_counts().head(5)\n",
    "print(\"top 5 clients:\\n\", top_clients)"
   ]
  },
  {
   "cell_type": "code",
   "execution_count": 8,
   "id": "a6635601",
   "metadata": {},
   "outputs": [
    {
     "name": "stdout",
     "output_type": "stream",
     "text": [
      "top 5 clients ids:\n",
      " [33615, 66037, 46820, 24741, 38378]\n"
     ]
    }
   ],
   "source": [
    "# Store the client ids of those top 5 clients in a list.\n",
    "top_clients_id = top_clients.index.tolist()\n",
    "print(\"top 5 clients ids:\\n\",top_clients_id) "
   ]
  },
  {
   "cell_type": "code",
   "execution_count": 9,
   "id": "c88b8a3e",
   "metadata": {},
   "outputs": [
    {
     "name": "stdout",
     "output_type": "stream",
     "text": [
      "total units ordered by client with most entries:\n",
      " 64313\n"
     ]
    }
   ],
   "source": [
    "# How many total units (the qty column) did the client with the most entries order order?\n",
    "top_clients_id = top_clients_id[0]\n",
    "total_units = df[df['client_id']==top_clients_id]['qty'].sum()\n",
    "print(\"total units ordered by client with most entries:\\n\",total_units)"
   ]
  },
  {
   "cell_type": "markdown",
   "id": "257fcd7d",
   "metadata": {},
   "source": [
    "## Part 2: Transform the Data\n",
    "Do we know that this client spent the more money than client 66037? If not, how would we find out? Transform the data using the steps below to prepare it for analysis."
   ]
  },
  {
   "cell_type": "code",
   "execution_count": 10,
   "id": "0c25c4a8",
   "metadata": {},
   "outputs": [],
   "source": [
    "# Create a column that calculates the subtotal for each line using the unit_price and the qty\n",
    "df['line_subtotal'] = df['unit_price'] * df['qty']\n"
   ]
  },
  {
   "cell_type": "code",
   "execution_count": 11,
   "id": "f38e8571-0daf-40d8-a909-385f97bcd35a",
   "metadata": {},
   "outputs": [],
   "source": [
    "df['total_weight'] = df['unit_weight'] * df['qty']"
   ]
  },
  {
   "cell_type": "code",
   "execution_count": 12,
   "id": "ac9dafc8",
   "metadata": {},
   "outputs": [
    {
     "name": "stdout",
     "output_type": "stream",
     "text": [
      "Index(['first', 'last', 'job', 'phone', 'email', 'client_id', 'order_id',\n",
      "       'order_date', 'order_week', 'order_year', 'item_id', 'category',\n",
      "       'subcategory', 'unit_price', 'unit_cost', 'unit_weight', 'qty',\n",
      "       'line_number', 'line_subtotal', 'total_weight', 'shipping_price'],\n",
      "      dtype='object')\n"
     ]
    }
   ],
   "source": [
    "# Create a column for shipping price.\n",
    "# Assume a shipping price of $7 per pound for orders over 50 pounds and $10 per pound for items 50 pounds or under.\n",
    "df['shipping_price'] = df['total_weight'].apply(lambda x: 7*x if x > 50 else 10 *x)\n",
    "print(df.columns)"
   ]
  },
  {
   "cell_type": "code",
   "execution_count": 13,
   "id": "77f42c67",
   "metadata": {},
   "outputs": [],
   "source": [
    "# Create a column for the total price using the subtotal and the shipping price along with a sales tax of 9.25%\n",
    "df['total_price'] = df['line_subtotal'] + df['shipping_price']\n",
    "df['total_price'] *= 1.09249997"
   ]
  },
  {
   "cell_type": "code",
   "execution_count": 14,
   "id": "c82ad275",
   "metadata": {},
   "outputs": [],
   "source": [
    "# Create a column for the cost of each line using unit cost, qty, and\n",
    "# shipping price (assume the shipping cost is exactly what is charged to the client).\n",
    "df['line_cost'] = (df['unit_cost'] * df['qty']) + df['shipping_price']\n",
    "df['profit'] = df['total_price'] - df['line_cost']"
   ]
  },
  {
   "cell_type": "code",
   "execution_count": 15,
   "id": "e2389018",
   "metadata": {},
   "outputs": [],
   "source": [
    "# Create a column for the profit of each line using line cost and line price\n",
    "df['line_profit'] = df['total_price'] - df['line_cost']\n"
   ]
  },
  {
   "cell_type": "markdown",
   "id": "ef6f62b1",
   "metadata": {},
   "source": [
    "## Part 3: Confirm your work\n",
    "You have email receipts showing that the total prices for 3 orders. Confirm that your calculations match the receipts. Remember, each order has multiple lines.\n",
    "\n",
    "Order ID 2742071 had a total price of \\$152,811.89\n",
    "\n",
    "Order ID 2173913 had a total price of \\$162,388.71\n",
    "\n",
    "Order ID 6128929 had a total price of \\$923,441.25\n"
   ]
  },
  {
   "cell_type": "code",
   "execution_count": 16,
   "id": "c0e5d68e",
   "metadata": {},
   "outputs": [
    {
     "name": "stdout",
     "output_type": "stream",
     "text": [
      "Order Id 2742071 Total Price: $152811.89\n",
      "Order Id 2173913 Total Price: $162388.71\n",
      "Order Id 6128929 Total Price: $923441.22\n"
     ]
    }
   ],
   "source": [
    "# Check your work using the totals above\n",
    "orders = [2742071,  2173913, 6128929]\n",
    "\n",
    "for order_id in orders: \n",
    "    order_df= df[df['order_id']==order_id]\n",
    "    total_price = order_df['total_price'].sum()\n",
    "    print(f\"Order Id {order_id} Total Price: ${total_price:.2f}\")"
   ]
  },
  {
   "cell_type": "code",
   "execution_count": 17,
   "id": "cc348536-4457-408a-b6d5-0dd5f2c7e14f",
   "metadata": {},
   "outputs": [
    {
     "data": {
      "text/plain": [
       "[33615, 66037, 46820, 24741, 38378]"
      ]
     },
     "execution_count": 17,
     "metadata": {},
     "output_type": "execute_result"
    }
   ],
   "source": [
    "top_clients = df['client_id'].value_counts().head(5)\n",
    "top_clients_id = top_clients.index.tolist()\n",
    "top_clients_id"
   ]
  },
  {
   "cell_type": "markdown",
   "id": "b94d58ab",
   "metadata": {},
   "source": [
    "## Part 4: Summarize and Analyze\n",
    "Use the new columns with confirmed values to find the following information."
   ]
  },
  {
   "cell_type": "code",
   "execution_count": 18,
   "id": "917dae07-72bd-40db-aec4-a1b029355046",
   "metadata": {},
   "outputs": [
    {
     "name": "stdout",
     "output_type": "stream",
     "text": [
      "Total Spending by Top 5 Clients:\n",
      "    client_id   total_price\n",
      "0      24741  8.226889e+07\n",
      "1      33615  8.377308e+06\n",
      "2      38378  1.290655e+07\n",
      "3      46820  9.743794e+06\n",
      "4      66037  1.025951e+07\n"
     ]
    }
   ],
   "source": [
    "# How much did each of the top 5 clients by quantity spend? Check your work from Part 1 for client ids.\n",
    "spending_summary = df[df['client_id'].isin(top_clients_id)].groupby('client_id').agg({\n",
    "    'total_price': 'sum'\n",
    "}).reset_index()\n",
    "print(\"Total Spending by Top 5 Clients:\\n\", spending_summary)"
   ]
  },
  {
   "cell_type": "code",
   "execution_count": 19,
   "id": "7c005f34",
   "metadata": {
    "scrolled": true
   },
   "outputs": [
    {
     "name": "stdout",
     "output_type": "stream",
     "text": [
      "total spending by top 5 clients:\n",
      "    client_id   total_price\n",
      "0      24741  8.226889e+07\n",
      "1      33615  8.377308e+06\n",
      "2      38378  1.290655e+07\n",
      "3      46820  9.743794e+06\n",
      "4      66037  1.025951e+07\n"
     ]
    }
   ],
   "source": [
    "# How much did each of the top 5 clients by quantity spend? Check your work from Part 1 for client ids.\n",
    "spending_summary = df[df['client_id'].isin(top_clients_id)].groupby('client_id').agg({\n",
    "    'total_price':'sum'\n",
    "}).reset_index()\n",
    "print(\"total spending by top 5 clients:\\n\",spending_summary)\n"
   ]
  },
  {
   "cell_type": "code",
   "execution_count": 20,
   "id": "557f750d-00c1-4de8-95fe-01e706c90548",
   "metadata": {},
   "outputs": [],
   "source": [
    "#f = of top 5 clients\n",
    "#cols = ['qty', 'shipping_price', 'line_price', 'line_cost', 'line_profit']\n",
    "#for i in cols:\n",
    "   # df[i] = [totals_foryourclentsdf(client_id, col) for client_id in top_5_clientsdf]\n",
    "#summary_df = pd.DataFrame(df)\n",
    "top_df = df[df['client_id'].isin(top_clients_id)]\n",
    "#top_df"
   ]
  },
  {
   "cell_type": "code",
   "execution_count": 21,
   "id": "03d46620-4891-45e0-b042-e0c4a87946eb",
   "metadata": {},
   "outputs": [
    {
     "name": "stdout",
     "output_type": "stream",
     "text": [
      "Index(['first', 'last', 'job', 'phone', 'email', 'client_id', 'order_id',\n",
      "       'order_date', 'order_week', 'order_year', 'item_id', 'category',\n",
      "       'subcategory', 'unit_price', 'unit_cost', 'unit_weight', 'qty',\n",
      "       'line_number', 'line_subtotal', 'total_weight', 'shipping_price',\n",
      "       'total_price', 'line_cost', 'profit', 'line_profit'],\n",
      "      dtype='object')\n"
     ]
    }
   ],
   "source": [
    "print(top_df.columns)"
   ]
  },
  {
   "cell_type": "code",
   "execution_count": 22,
   "id": "81b6e4d2",
   "metadata": {},
   "outputs": [
    {
     "data": {
      "text/html": [
       "<div>\n",
       "<style scoped>\n",
       "    .dataframe tbody tr th:only-of-type {\n",
       "        vertical-align: middle;\n",
       "    }\n",
       "\n",
       "    .dataframe tbody tr th {\n",
       "        vertical-align: top;\n",
       "    }\n",
       "\n",
       "    .dataframe thead th {\n",
       "        text-align: right;\n",
       "    }\n",
       "</style>\n",
       "<table border=\"1\" class=\"dataframe\">\n",
       "  <thead>\n",
       "    <tr style=\"text-align: right;\">\n",
       "      <th></th>\n",
       "      <th>client_id</th>\n",
       "      <th>qty</th>\n",
       "      <th>shipping_price</th>\n",
       "      <th>total_price</th>\n",
       "      <th>line_cost</th>\n",
       "      <th>line_profit</th>\n",
       "    </tr>\n",
       "  </thead>\n",
       "  <tbody>\n",
       "    <tr>\n",
       "      <th>5</th>\n",
       "      <td>33615</td>\n",
       "      <td>78</td>\n",
       "      <td>1523.34</td>\n",
       "      <td>16392.809100</td>\n",
       "      <td>13569.66</td>\n",
       "      <td>2823.149100</td>\n",
       "    </tr>\n",
       "    <tr>\n",
       "      <th>12</th>\n",
       "      <td>33615</td>\n",
       "      <td>568</td>\n",
       "      <td>109379.76</td>\n",
       "      <td>262060.240204</td>\n",
       "      <td>222059.60</td>\n",
       "      <td>40000.640204</td>\n",
       "    </tr>\n",
       "    <tr>\n",
       "      <th>137</th>\n",
       "      <td>46820</td>\n",
       "      <td>118</td>\n",
       "      <td>4666.90</td>\n",
       "      <td>22647.786578</td>\n",
       "      <td>17820.36</td>\n",
       "      <td>4827.426578</td>\n",
       "    </tr>\n",
       "    <tr>\n",
       "      <th>214</th>\n",
       "      <td>46820</td>\n",
       "      <td>133</td>\n",
       "      <td>6563.55</td>\n",
       "      <td>8330.192096</td>\n",
       "      <td>7396.13</td>\n",
       "      <td>934.062096</td>\n",
       "    </tr>\n",
       "    <tr>\n",
       "      <th>216</th>\n",
       "      <td>66037</td>\n",
       "      <td>157</td>\n",
       "      <td>408.20</td>\n",
       "      <td>52223.454141</td>\n",
       "      <td>26484.33</td>\n",
       "      <td>25739.124141</td>\n",
       "    </tr>\n",
       "    <tr>\n",
       "      <th>...</th>\n",
       "      <td>...</td>\n",
       "      <td>...</td>\n",
       "      <td>...</td>\n",
       "      <td>...</td>\n",
       "      <td>...</td>\n",
       "      <td>...</td>\n",
       "    </tr>\n",
       "    <tr>\n",
       "      <th>54535</th>\n",
       "      <td>66037</td>\n",
       "      <td>108</td>\n",
       "      <td>5685.12</td>\n",
       "      <td>8188.505775</td>\n",
       "      <td>6836.40</td>\n",
       "      <td>1352.105775</td>\n",
       "    </tr>\n",
       "    <tr>\n",
       "      <th>54536</th>\n",
       "      <td>24741</td>\n",
       "      <td>721</td>\n",
       "      <td>23720.90</td>\n",
       "      <td>76185.616508</td>\n",
       "      <td>52596.95</td>\n",
       "      <td>23588.666508</td>\n",
       "    </tr>\n",
       "    <tr>\n",
       "      <th>54579</th>\n",
       "      <td>38378</td>\n",
       "      <td>118</td>\n",
       "      <td>10795.82</td>\n",
       "      <td>15823.026666</td>\n",
       "      <td>13190.04</td>\n",
       "      <td>2632.986666</td>\n",
       "    </tr>\n",
       "    <tr>\n",
       "      <th>54589</th>\n",
       "      <td>38378</td>\n",
       "      <td>685</td>\n",
       "      <td>3356.50</td>\n",
       "      <td>42761.432076</td>\n",
       "      <td>29564.60</td>\n",
       "      <td>13196.832076</td>\n",
       "    </tr>\n",
       "    <tr>\n",
       "      <th>54613</th>\n",
       "      <td>24741</td>\n",
       "      <td>91</td>\n",
       "      <td>8363.81</td>\n",
       "      <td>18648.734138</td>\n",
       "      <td>13761.93</td>\n",
       "      <td>4886.804138</td>\n",
       "    </tr>\n",
       "  </tbody>\n",
       "</table>\n",
       "<p>1054 rows × 6 columns</p>\n",
       "</div>"
      ],
      "text/plain": [
       "       client_id  qty  shipping_price    total_price  line_cost   line_profit\n",
       "5          33615   78         1523.34   16392.809100   13569.66   2823.149100\n",
       "12         33615  568       109379.76  262060.240204  222059.60  40000.640204\n",
       "137        46820  118         4666.90   22647.786578   17820.36   4827.426578\n",
       "214        46820  133         6563.55    8330.192096    7396.13    934.062096\n",
       "216        66037  157          408.20   52223.454141   26484.33  25739.124141\n",
       "...          ...  ...             ...            ...        ...           ...\n",
       "54535      66037  108         5685.12    8188.505775    6836.40   1352.105775\n",
       "54536      24741  721        23720.90   76185.616508   52596.95  23588.666508\n",
       "54579      38378  118        10795.82   15823.026666   13190.04   2632.986666\n",
       "54589      38378  685         3356.50   42761.432076   29564.60  13196.832076\n",
       "54613      24741   91         8363.81   18648.734138   13761.93   4886.804138\n",
       "\n",
       "[1054 rows x 6 columns]"
      ]
     },
     "execution_count": 22,
     "metadata": {},
     "output_type": "execute_result"
    }
   ],
   "source": [
    "# Create a summary DataFrame showing the totals for the for the top 5 clients with the following information:\n",
    "# total units purchased, total shipping price, total revenue, and total profit. \n",
    "top_df_organized = top_df[['client_id', \n",
    "                                         'qty', \n",
    "                                         'shipping_price',\n",
    "                                         'total_price',\n",
    "                                         'line_cost',\n",
    "                                         'line_profit'\n",
    "                                         ]]\n",
    "top_df_organized"
   ]
  },
  {
   "cell_type": "code",
   "execution_count": 23,
   "id": "8ba479f1-3b85-4695-b215-d6e8a3903d89",
   "metadata": {},
   "outputs": [],
   "source": [
    "top_df_compresed = top_df_organized.groupby(['client_id'], as_index=False)[['qty','shipping_price','total_price','line_cost','line_profit']].sum()"
   ]
  },
  {
   "cell_type": "code",
   "execution_count": 24,
   "id": "d419db32-3f08-4d7f-a104-a00586b6d01b",
   "metadata": {},
   "outputs": [
    {
     "data": {
      "text/html": [
       "<div>\n",
       "<style scoped>\n",
       "    .dataframe tbody tr th:only-of-type {\n",
       "        vertical-align: middle;\n",
       "    }\n",
       "\n",
       "    .dataframe tbody tr th {\n",
       "        vertical-align: top;\n",
       "    }\n",
       "\n",
       "    .dataframe thead th {\n",
       "        text-align: right;\n",
       "    }\n",
       "</style>\n",
       "<table border=\"1\" class=\"dataframe\">\n",
       "  <thead>\n",
       "    <tr style=\"text-align: right;\">\n",
       "      <th></th>\n",
       "      <th>client_id</th>\n",
       "      <th>qty</th>\n",
       "      <th>shipping_price</th>\n",
       "      <th>total_price</th>\n",
       "      <th>line_cost</th>\n",
       "      <th>line_profit</th>\n",
       "    </tr>\n",
       "  </thead>\n",
       "  <tbody>\n",
       "    <tr>\n",
       "      <th>0</th>\n",
       "      <td>24741</td>\n",
       "      <td>239862</td>\n",
       "      <td>5126448.37</td>\n",
       "      <td>8.226889e+07</td>\n",
       "      <td>45688899.71</td>\n",
       "      <td>3.657999e+07</td>\n",
       "    </tr>\n",
       "    <tr>\n",
       "      <th>1</th>\n",
       "      <td>33615</td>\n",
       "      <td>64313</td>\n",
       "      <td>1828984.89</td>\n",
       "      <td>8.377308e+06</td>\n",
       "      <td>6175313.91</td>\n",
       "      <td>2.201994e+06</td>\n",
       "    </tr>\n",
       "    <tr>\n",
       "      <th>2</th>\n",
       "      <td>38378</td>\n",
       "      <td>73667</td>\n",
       "      <td>3429455.40</td>\n",
       "      <td>1.290655e+07</td>\n",
       "      <td>9634720.98</td>\n",
       "      <td>3.271830e+06</td>\n",
       "    </tr>\n",
       "    <tr>\n",
       "      <th>3</th>\n",
       "      <td>46820</td>\n",
       "      <td>75768</td>\n",
       "      <td>1601448.84</td>\n",
       "      <td>9.743794e+06</td>\n",
       "      <td>7007191.64</td>\n",
       "      <td>2.736602e+06</td>\n",
       "    </tr>\n",
       "    <tr>\n",
       "      <th>4</th>\n",
       "      <td>66037</td>\n",
       "      <td>43018</td>\n",
       "      <td>1395151.85</td>\n",
       "      <td>1.025951e+07</td>\n",
       "      <td>7004482.98</td>\n",
       "      <td>3.255032e+06</td>\n",
       "    </tr>\n",
       "  </tbody>\n",
       "</table>\n",
       "</div>"
      ],
      "text/plain": [
       "   client_id     qty  shipping_price   total_price    line_cost   line_profit\n",
       "0      24741  239862      5126448.37  8.226889e+07  45688899.71  3.657999e+07\n",
       "1      33615   64313      1828984.89  8.377308e+06   6175313.91  2.201994e+06\n",
       "2      38378   73667      3429455.40  1.290655e+07   9634720.98  3.271830e+06\n",
       "3      46820   75768      1601448.84  9.743794e+06   7007191.64  2.736602e+06\n",
       "4      66037   43018      1395151.85  1.025951e+07   7004482.98  3.255032e+06"
      ]
     },
     "execution_count": 24,
     "metadata": {},
     "output_type": "execute_result"
    }
   ],
   "source": [
    "top_df_compresed"
   ]
  },
  {
   "cell_type": "code",
   "execution_count": 25,
   "id": "7be02867",
   "metadata": {},
   "outputs": [],
   "source": [
    "# Format the data and rename the columns to names suitable for presentation.\n",
    "top_df_renamed = top_df_compresed.rename(columns ={'client_id' : 'Client ID',\n",
    "                                                    'qty' : 'Units',\n",
    "                                                    'shipping_price' : 'Shipping',\n",
    "                                                    'total_price' : 'Total Revenue',\n",
    "                                                    'line_cost' : 'Total Cost',\n",
    "                                                    'line_profit' : 'Total Profit'\n",
    "                                                   })\n",
    "\n",
    "\n",
    "# Define the money columns. \n",
    "money_columns = ['Shipping', 'Total Revenue', 'Total Cost', 'Total Profit']\n",
    "\n",
    "# Define a function that converts a dollar amount to millions.\n",
    "def currency_format_millions(amount):\n",
    "    return amount / 1_000_000 \n",
    "\n",
    "for column in money_columns:\n",
    "    top_df_renamed[column]= top_df_renamed[column].apply(currency_format_millions)\n",
    "\n",
    "# Rename the columns to reflect the change in the money format. \n",
    "top_df_new = top_df_renamed.rename(columns ={'Shipping' : 'Shipping (millions)',\n",
    "                                            'Total Revenue' : 'Total Revenue (millions)',\n",
    "                                            'Total Cost' : 'Total Cost (millions)',\n",
    "                                            'Total Profit' : 'Total Profit (millions)'\n",
    "                                            })\n",
    "\n"
   ]
  },
  {
   "cell_type": "code",
   "execution_count": 28,
   "id": "8ead0986",
   "metadata": {},
   "outputs": [
    {
     "data": {
      "text/html": [
       "<div>\n",
       "<style scoped>\n",
       "    .dataframe tbody tr th:only-of-type {\n",
       "        vertical-align: middle;\n",
       "    }\n",
       "\n",
       "    .dataframe tbody tr th {\n",
       "        vertical-align: top;\n",
       "    }\n",
       "\n",
       "    .dataframe thead th {\n",
       "        text-align: right;\n",
       "    }\n",
       "</style>\n",
       "<table border=\"1\" class=\"dataframe\">\n",
       "  <thead>\n",
       "    <tr style=\"text-align: right;\">\n",
       "      <th></th>\n",
       "      <th>Client ID</th>\n",
       "      <th>Units</th>\n",
       "      <th>Shipping (millions)</th>\n",
       "      <th>Total Revenue (millions)</th>\n",
       "      <th>Total Cost (millions)</th>\n",
       "      <th>Total Profit (millions)</th>\n",
       "    </tr>\n",
       "  </thead>\n",
       "  <tbody>\n",
       "    <tr>\n",
       "      <th>0</th>\n",
       "      <td>24741</td>\n",
       "      <td>239862</td>\n",
       "      <td>5.126448</td>\n",
       "      <td>82.268890</td>\n",
       "      <td>45.688900</td>\n",
       "      <td>36.579990</td>\n",
       "    </tr>\n",
       "    <tr>\n",
       "      <th>1</th>\n",
       "      <td>38378</td>\n",
       "      <td>73667</td>\n",
       "      <td>3.429455</td>\n",
       "      <td>12.906551</td>\n",
       "      <td>9.634721</td>\n",
       "      <td>3.271830</td>\n",
       "    </tr>\n",
       "    <tr>\n",
       "      <th>2</th>\n",
       "      <td>66037</td>\n",
       "      <td>43018</td>\n",
       "      <td>1.395152</td>\n",
       "      <td>10.259515</td>\n",
       "      <td>7.004483</td>\n",
       "      <td>3.255032</td>\n",
       "    </tr>\n",
       "    <tr>\n",
       "      <th>3</th>\n",
       "      <td>46820</td>\n",
       "      <td>75768</td>\n",
       "      <td>1.601449</td>\n",
       "      <td>9.743794</td>\n",
       "      <td>7.007192</td>\n",
       "      <td>2.736602</td>\n",
       "    </tr>\n",
       "    <tr>\n",
       "      <th>4</th>\n",
       "      <td>33615</td>\n",
       "      <td>64313</td>\n",
       "      <td>1.828985</td>\n",
       "      <td>8.377308</td>\n",
       "      <td>6.175314</td>\n",
       "      <td>2.201994</td>\n",
       "    </tr>\n",
       "  </tbody>\n",
       "</table>\n",
       "</div>"
      ],
      "text/plain": [
       "   Client ID   Units  Shipping (millions)  Total Revenue (millions)  \\\n",
       "0      24741  239862             5.126448                 82.268890   \n",
       "1      38378   73667             3.429455                 12.906551   \n",
       "2      66037   43018             1.395152                 10.259515   \n",
       "3      46820   75768             1.601449                  9.743794   \n",
       "4      33615   64313             1.828985                  8.377308   \n",
       "\n",
       "   Total Cost (millions)  Total Profit (millions)  \n",
       "0              45.688900                36.579990  \n",
       "1               9.634721                 3.271830  \n",
       "2               7.004483                 3.255032  \n",
       "3               7.007192                 2.736602  \n",
       "4               6.175314                 2.201994  "
      ]
     },
     "execution_count": 28,
     "metadata": {},
     "output_type": "execute_result"
    }
   ],
   "source": [
    "# Sort the updated data by \"Total Profit (millions)\" form highest to lowest and assign the sort to a new DatFrame.\n",
    "top_df_new = top_df_new.sort_values('Total Profit (millions)',ascending=False)\n",
    "top_df_sort = top_df_new.reset_index(drop=True) \n",
    "\n",
    "top_df_sort"
   ]
  },
  {
   "cell_type": "code",
   "execution_count": null,
   "id": "87e0e7f8-b60e-4e50-ab07-c36b6deed513",
   "metadata": {},
   "outputs": [],
   "source": []
  },
  {
   "cell_type": "code",
   "execution_count": null,
   "id": "1ddaa5ff-c717-4a3e-bb8d-27b780e4f590",
   "metadata": {},
   "outputs": [],
   "source": []
  }
 ],
 "metadata": {
  "kernelspec": {
   "display_name": "Python 3 (ipykernel)",
   "language": "python",
   "name": "python3"
  },
  "language_info": {
   "codemirror_mode": {
    "name": "ipython",
    "version": 3
   },
   "file_extension": ".py",
   "mimetype": "text/x-python",
   "name": "python",
   "nbconvert_exporter": "python",
   "pygments_lexer": "ipython3",
   "version": "3.12.5"
  }
 },
 "nbformat": 4,
 "nbformat_minor": 5
}
